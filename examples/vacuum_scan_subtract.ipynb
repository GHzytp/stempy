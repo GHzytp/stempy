{
 "cells": [
  {
   "cell_type": "code",
   "execution_count": 1,
   "metadata": {},
   "outputs": [],
   "source": [
    "%matplotlib widget\n",
    "\n",
    "from pathlib import Path\n",
    "from collections import namedtuple\n",
    "\n",
    "import matplotlib.pyplot as plt\n",
    "import numpy as np\n",
    "from numpy.linalg import svd\n",
    "import imageio\n",
    "from scipy import ndimage\n",
    "\n",
    "import h5py\n",
    "import stempy.io as stio\n",
    "import stempy.image as stim\n",
    "\n",
    "# Set up Cori paths\n",
    "ncemhub = Path('/global/cfs/cdirs/ncemhub/4Dcamera/')\n",
    "scratch = Path('/global/cscratch1/sd/percius/')\n",
    "# Set up mothership6 paths\n",
    "hdd1 = Path('/mnt/hdd1')"
   ]
  },
  {
   "cell_type": "code",
   "execution_count": 30,
   "metadata": {},
   "outputs": [],
   "source": [
    "def com_sparse_iterative(electron_events, scan_dimensions, crop_to=(576,576)):\n",
    "    # Iterative version. Will be replaced in a future stempy release\n",
    "    # Calculate the center of mass as a test\n",
    "    com2 = np.zeros((2, scan_dimensions[0]*scan_dimensions[1]), np.float32)\n",
    "    for ii, ev in enumerate(electron_events):\n",
    "        if len(ev) > 0:\n",
    "            x,y = np.unravel_index(ev,(576,576))\n",
    "            mm = len(ev)\n",
    "            comx0 = np.sum(x) / mm\n",
    "            comy0 = np.sum(y) / mm\n",
    "            # Crop around the center\n",
    "            keep = (x > comx0-crop_to[0]) & (x <= comx0+crop_to[0]) & (y > comy0-crop_to[1]) & (y <= comy0+crop_to[1])\n",
    "            x = x[keep]\n",
    "            y = y[keep]\n",
    "            mm = len(x)\n",
    "            if mm > 0:\n",
    "                comx = np.sum(x)\n",
    "                comy = np.sum(y)\n",
    "                comx = comx / mm\n",
    "                comy = comy / mm\n",
    "            else:\n",
    "                comx = comx0\n",
    "                comy = comy0\n",
    "            com2[:, ii] = (comy,comx)\n",
    "        else:\n",
    "            com2[:, ii] = (np.nan, np.nan)\n",
    "            \n",
    "    com2 = com2.reshape((2, scan_dimensions[0], scan_dimensions[1]))\n",
    "    return com2\n",
    "\n",
    "def planeFit(points):\n",
    "    \"\"\"\n",
    "    p, n = planeFit(points)\n",
    "\n",
    "    Given an array, points, of shape (d,...)\n",
    "    representing points in d-dimensional space,\n",
    "    fit an d-dimensional plane to the points.\n",
    "    Return a point, p, on the plane (the point-cloud centroid),\n",
    "    and the normal, n.\n",
    "\n",
    "    \"\"\"\n",
    "\n",
    "    points = np.reshape(points, (np.shape(points)[0], -1)) # Collapse trialing dimensions\n",
    "    assert points.shape[0] <= points.shape[1], \"There are only {} points in {} dimensions.\".format(points.shape[1], points.shape[0])\n",
    "    ctr = points.mean(axis=1)\n",
    "    x = points - ctr[:,np.newaxis]\n",
    "    M = np.dot(x, x.T) # Could also use np.cov(x) here.\n",
    "    return ctr, svd(M)[0][:,-1]"
   ]
  },
  {
   "cell_type": "code",
   "execution_count": 3,
   "metadata": {},
   "outputs": [
    {
     "name": "stdout",
     "output_type": "stream",
     "text": [
      "File: /mnt/hdd1/2020.11.23/data_scan105_th4.0_electrons.h5\n",
      "Initial scan dimensions = [257, 1024]\n"
     ]
    }
   ],
   "source": [
    "# Close all previous windows to avoid too many windows\n",
    "plt.close('all')\n",
    "\n",
    "# Load a sparse vacuum 4D camera data set \n",
    "scan_num = 105\n",
    "threshold = 4.0\n",
    "data_dir = Path('2020.11.23')\n",
    "\n",
    "fname = hdd1 / data_dir / Path('data_scan{}_th{}_electrons.h5'.format(scan_num, threshold))\n",
    "\n",
    "vacuum_scan = stio.load_electron_counts(fname)\n",
    "\n",
    "print('File: {}'.format(fname))\n",
    "print('Initial scan dimensions = {}'.format(vacuum_scan.scan_dimensions))"
   ]
  },
  {
   "cell_type": "code",
   "execution_count": 5,
   "metadata": {},
   "outputs": [
    {
     "data": {
      "application/vnd.jupyter.widget-view+json": {
       "model_id": "b9cfac674be8408698fd26b8b41091a2",
       "version_major": 2,
       "version_minor": 0
      },
      "text/plain": [
       "Canvas(toolbar=Toolbar(toolitems=[('Home', 'Reset original view', 'home', 'home'), ('Back', 'Back to previous …"
      ]
     },
     "metadata": {},
     "output_type": "display_data"
    },
    {
     "data": {
      "text/plain": [
       "<matplotlib.image.AxesImage at 0x7f9b3fd7b250>"
      ]
     },
     "execution_count": 5,
     "metadata": {},
     "output_type": "execute_result"
    }
   ],
   "source": [
    "# Show the summed diffraction pattern\n",
    "dp = stim.calculate_sum_sparse(vacuum_scan.data, vacuum_scan.frame_dimensions)\n",
    "\n",
    "fg,ax = plt.subplots(1,1)\n",
    "ax.imshow(dp)"
   ]
  },
  {
   "cell_type": "code",
   "execution_count": 31,
   "metadata": {},
   "outputs": [
    {
     "name": "stdout",
     "output_type": "stream",
     "text": [
      "Remove the code below in a future release.\n"
     ]
    }
   ],
   "source": [
    "# Calculate the com iteratively\n",
    "#com2 = stim.com_sparse(vacuum_scan.data, vacuum_scan.frame_dimensions)\n",
    "com2 = com_sparse_iterative(vacuum_scan.data, vacuum_scan.scan_dimensions, crop_to=(30, 30))\n",
    "\n",
    "# These will be removed in a future release\n",
    "print('Remove the code below in a future release.')\n",
    "# Nan values to average value\n",
    "np.nan_to_num(com2[0,],copy=False,nan=np.nanmean(com2[0,]))\n",
    "np.nan_to_num(com2[1,],copy=False,nan=np.nanmean(com2[1,]));\n",
    "\n",
    "com2 = com2.reshape((2,*vacuum_scan.scan_dimensions[::-1]))\n"
   ]
  },
  {
   "cell_type": "code",
   "execution_count": 32,
   "metadata": {},
   "outputs": [
    {
     "data": {
      "application/vnd.jupyter.widget-view+json": {
       "model_id": "841a9e3049f74b5a8ef8ded32ee44c92",
       "version_major": 2,
       "version_minor": 0
      },
      "text/plain": [
       "Canvas(toolbar=Toolbar(toolitems=[('Home', 'Reset original view', 'home', 'home'), ('Back', 'Back to previous …"
      ]
     },
     "metadata": {},
     "output_type": "display_data"
    },
    {
     "data": {
      "text/plain": [
       "<matplotlib.image.AxesImage at 0x7f9b337d2a30>"
      ]
     },
     "execution_count": 32,
     "metadata": {},
     "output_type": "execute_result"
    }
   ],
   "source": [
    "# Remove the outliers by median filtering\n",
    "com2_filt = np.zeros_like(com2)\n",
    "com2_filt[0,] = ndimage.median_filter(com2[0,], size=(3,3))\n",
    "com2_filt[1,] = ndimage.median_filter(com2[1,], size=(3,3))\n",
    "\n",
    "com2_median = np.median(com2_filt,axis=(1,2))\n",
    "\n",
    "fg,ax = plt.subplots(1, 2,sharex=True,sharey=True)\n",
    "ax[0].imshow(com2_filt[0,]-com2_median[0],cmap='bwr',vmin=-25,vmax=25)\n",
    "ax[1].imshow(com2_filt[1,]-com2_median[1],cmap='bwr',vmin=-25,vmax=25)"
   ]
  },
  {
   "cell_type": "code",
   "execution_count": 16,
   "metadata": {},
   "outputs": [
    {
     "name": "stdout",
     "output_type": "stream",
     "text": [
      "(array([511.5       , 128.        , 281.50863554]), array([-0.01335387, -0.01116126,  0.99984854]))\n",
      "(array([511.5      , 128.       , 296.8526089]), array([0.01876338, 0.03832418, 0.99908918]))\n"
     ]
    }
   ],
   "source": [
    "# Fit the COMs to planes to smooth it out\n",
    "YY, XX = np.mgrid[0:com2.shape[1],0:com2.shape[2]]\n",
    "\n",
    "planeCOM0 = planeFit(np.stack((YY,XX,com2_filt[0,])))\n",
    "planeCOM1 = planeFit(np.stack((YY,XX,com2_filt[1,])))\n",
    "\n",
    "print(planeCOM0)\n",
    "print(planeCOM1)"
   ]
  },
  {
   "cell_type": "code",
   "execution_count": 33,
   "metadata": {},
   "outputs": [
    {
     "data": {
      "application/vnd.jupyter.widget-view+json": {
       "model_id": "bde9750f025249aabce5f5b2da4b7d40",
       "version_major": 2,
       "version_minor": 0
      },
      "text/plain": [
       "Canvas(toolbar=Toolbar(toolitems=[('Home', 'Reset original view', 'home', 'home'), ('Back', 'Back to previous …"
      ]
     },
     "metadata": {},
     "output_type": "display_data"
    }
   ],
   "source": [
    "# Generate points on the plane to fit the dataset size\n",
    "YY, XX = np.mgrid[0:vacuum_scan.scan_dimensions[1], 0:vacuum_scan.scan_dimensions[0]]\n",
    "\n",
    "normal = planeCOM0[1]\n",
    "d = np.dot(-planeCOM0[0], normal)\n",
    "# calculate corresponding z\n",
    "z0 = (-normal[0]*YY - normal[1]*XX - d)/normal[2]\n",
    "\n",
    "normal = planeCOM1[1]\n",
    "d = np.dot(-planeCOM1[0], normal)\n",
    "# calculate corresponding z\n",
    "z1 = (-normal[0]*YY - normal[1]*XX - d)/normal[2]\n",
    "\n",
    "fg,ax = plt.subplots(2,2)\n",
    "ax[0,0].imshow(com2_filt[0,],cmap='bwr')\n",
    "ax[0,1].imshow(z0, cmap='bwr')\n",
    "ax[1,0].imshow(com2_filt[1,],cmap='bwr')\n",
    "ax[1,1].imshow(z1, cmap='bwr');"
   ]
  },
  {
   "cell_type": "code",
   "execution_count": 22,
   "metadata": {},
   "outputs": [
    {
     "data": {
      "application/vnd.jupyter.widget-view+json": {
       "model_id": "fc6306234b48460685786a880915016c",
       "version_major": 2,
       "version_minor": 0
      },
      "text/plain": [
       "Canvas(toolbar=Toolbar(toolitems=[('Home', 'Reset original view', 'home', 'home'), ('Back', 'Back to previous …"
      ]
     },
     "metadata": {},
     "output_type": "display_data"
    },
    {
     "data": {
      "text/plain": [
       "<matplotlib.image.AxesImage at 0x7f9b33ca2430>"
      ]
     },
     "execution_count": 22,
     "metadata": {},
     "output_type": "execute_result"
    }
   ],
   "source": [
    "# Test centering on the vacuum scan itself\n",
    "vacuum_scan_centered = namedtuple('ElectronCountedData',\n",
    "                             ['data', 'scan_dimensions', 'frame_dimensions'])\n",
    "vacuum_scan_centered.scan_dimensions = vacuum_scan.scan_dimensions\n",
    "vacuum_scan_centered.frame_dimensions = vacuum_scan.frame_dimensions\n",
    "\n",
    "vacuum_scan_centered.data = []\n",
    "\n",
    "z0_round = np.round(z0).astype(np.int32) - int(z0.mean())\n",
    "z1_round = np.round(z1).astype(np.int32) - int(z1.mean())\n",
    "\n",
    "for ev, x, y in zip(vacuum_scan.data, z0_round.ravel(), z1_round.ravel()):\n",
    "    evx, evy = np.unravel_index(ev, (576,576))\n",
    "    evx_centered = evx - y\n",
    "    evy_centered = evy - x\n",
    "    \n",
    "    keep = (evx_centered < 576) & (evx_centered >= 0) * (evy_centered < 576) & (evy_centered >= 0)\n",
    "    evx_centered = evx_centered[keep]\n",
    "    evy_centered = evy_centered[keep]\n",
    "    \n",
    "    vacuum_scan_centered.data.append(np.ravel_multi_index((evx_centered,evy_centered), (576,576)))\n",
    "vacuum_scan_centered.data = np.array(vacuum_scan_centered.data, dtype=object)\n",
    "\n",
    "dp = stim.calculate_sum_sparse(vacuum_scan.data, vacuum_scan.frame_dimensions)\n",
    "    \n",
    "dp2 = stim.calculate_sum_sparse(vacuum_scan_centered.data, vacuum_scan_centered.frame_dimensions)\n",
    "\n",
    "fg,ax = plt.subplots(1,2,sharex=True,sharey=True)\n",
    "ax[0].imshow(dp)\n",
    "ax[1].imshow(dp2)\n"
   ]
  },
  {
   "cell_type": "code",
   "execution_count": 34,
   "metadata": {},
   "outputs": [
    {
     "data": {
      "application/vnd.jupyter.widget-view+json": {
       "model_id": "de5e26ceffc544d294d806cdea3b75af",
       "version_major": 2,
       "version_minor": 0
      },
      "text/plain": [
       "Canvas(toolbar=Toolbar(toolitems=[('Home', 'Reset original view', 'home', 'home'), ('Back', 'Back to previous …"
      ]
     },
     "metadata": {},
     "output_type": "display_data"
    },
    {
     "data": {
      "text/plain": [
       "<matplotlib.image.AxesImage at 0x7f9b335db2b0>"
      ]
     },
     "execution_count": 34,
     "metadata": {},
     "output_type": "execute_result"
    }
   ],
   "source": [
    "# Compare com_filtered to plane fit\n",
    "# Nan values to average value\n",
    "np.nan_to_num(com2[0,],copy=False,nan=np.nanmean(com2[0,]))\n",
    "np.nan_to_num(com2[1,],copy=False,nan=np.nanmean(com2[1,]))\n",
    "\n",
    "fg,ax = plt.subplots(2,2)\n",
    "ax[0,0].imshow(z0,cmap='bwr')\n",
    "ax[0,1].imshow(z1,cmap='bwr')\n",
    "ax[1,0].imshow(com2[0,]-z0,cmap='bwr')\n",
    "ax[1,1].imshow(com2[1,]-z1,cmap='bwr')"
   ]
  },
  {
   "cell_type": "markdown",
   "metadata": {},
   "source": [
    "# Apply to experiment from a sample"
   ]
  },
  {
   "cell_type": "code",
   "execution_count": 36,
   "metadata": {},
   "outputs": [
    {
     "name": "stdout",
     "output_type": "stream",
     "text": [
      "File: /mnt/hdd1/2020.11.23/data_scan102_th4.0_electrons.h5\n",
      "Initial scan dimensions = [257, 1024]\n"
     ]
    }
   ],
   "source": [
    "# Load a sparse 4D camera data set\n",
    "scan_num =102\n",
    "threshold = 4.0\n",
    "data_dir = Path('2020.11.23')\n",
    "\n",
    "fname = hdd1 / data_dir / Path('data_scan{}_th{}_electrons.h5'.format(scan_num, threshold))\n",
    "#fname = Path.home() / Path('data/temp/data_scan{scan_num}_th{}_electrons.h5'.format(scan_num, threshold))\n",
    "\n",
    "experiment = stio.load_electron_counts(fname)\n",
    "\n",
    "print('File: {}'.format(fname))\n",
    "print('Initial scan dimensions = {}'.format(experiment.scan_dimensions))"
   ]
  },
  {
   "cell_type": "code",
   "execution_count": 37,
   "metadata": {},
   "outputs": [
    {
     "data": {
      "application/vnd.jupyter.widget-view+json": {
       "model_id": "671503f3b2b944bcb783e65ad0fd5e5a",
       "version_major": 2,
       "version_minor": 0
      },
      "text/plain": [
       "Canvas(toolbar=Toolbar(toolitems=[('Home', 'Reset original view', 'home', 'home'), ('Back', 'Back to previous …"
      ]
     },
     "metadata": {},
     "output_type": "display_data"
    }
   ],
   "source": [
    "# Generate points on the plane to fit the dataset size\n",
    "factor = (experiment.scan_dimensions[0] / vacuum_scan.scan_dimensions[0],\n",
    "         experiment.scan_dimensions[1] / vacuum_scan.scan_dimensions[1])\n",
    "\n",
    "# Generate positions between vacuum positions\n",
    "YY, XX = np.mgrid[0:experiment.scan_dimensions[0], 0:experiment.scan_dimensions[1]]\n",
    "YY = YY.astype('<f4') / factor[1]\n",
    "XX = XX.astype('<f4') / factor[0]\n",
    "\n",
    "normal = planeCOM0[1]\n",
    "d = np.dot(-planeCOM0[0], normal)\n",
    "# calculate corresponding z\n",
    "z0 = (-normal[0]*YY - normal[1]*XX - d)/normal[2]\n",
    "\n",
    "normal = planeCOM1[1]\n",
    "d = np.dot(-planeCOM1[0], normal)\n",
    "# calculate corresponding z\n",
    "z1 = (-normal[0]*YY - normal[1]*XX - d)/normal[2]\n",
    "\n",
    "# Round to integers\n",
    "z0_round = np.round(z0 - z0.mean()).astype(np.int64)\n",
    "z1_round = np.round(z1 - z1.mean()).astype(np.int64)\n",
    "\n",
    "fg,ax = plt.subplots(2,2)\n",
    "ax[0,0].imshow(z0,cmap='bwr')\n",
    "ax[0,1].imshow(z0_round, cmap='bwr')\n",
    "ax[1,0].imshow(z1,cmap='bwr')\n",
    "ax[1,1].imshow(z1_round, cmap='bwr');"
   ]
  },
  {
   "cell_type": "code",
   "execution_count": 40,
   "metadata": {},
   "outputs": [
    {
     "data": {
      "application/vnd.jupyter.widget-view+json": {
       "model_id": "571a1e277b5d450a9c1b70333400fe1b",
       "version_major": 2,
       "version_minor": 0
      },
      "text/plain": [
       "Canvas(toolbar=Toolbar(toolitems=[('Home', 'Reset original view', 'home', 'home'), ('Back', 'Back to previous …"
      ]
     },
     "metadata": {},
     "output_type": "display_data"
    },
    {
     "data": {
      "text/plain": [
       "<matplotlib.image.AxesImage at 0x7f9b30a4d5b0>"
      ]
     },
     "execution_count": 40,
     "metadata": {},
     "output_type": "execute_result"
    }
   ],
   "source": [
    "# Use the fitted plane from the vacuum scan to recenter the events\n",
    "scan_centered = []\n",
    "\n",
    "for ev, x, y in zip(experiment.data, z0_round.ravel(), z1_round.ravel()):\n",
    "    evx, evy = np.unravel_index(ev, (576,576))\n",
    "    evx_centered = evx - y # need to flip x and y\n",
    "    evy_centered = evy - x\n",
    "    \n",
    "    # Some events will get pushed off the detetor by the shift. Remove them\n",
    "    keep = (evx_centered < 576) & (evx_centered >= 0) & (evy_centered < 576) & (evy_centered >= 0)\n",
    "    evx_centered = evx_centered[keep]\n",
    "    evy_centered = evy_centered[keep]\n",
    "    \n",
    "    scan_centered.append(np.ravel_multi_index((evx_centered,evy_centered), (576,576)))\n",
    "scan_centered = np.array(scan_centered, dtype=object)\n",
    "\n",
    "# Create a stempy counted data namedtuple\n",
    "experiment_centered = namedtuple('ElectronCountedData',\n",
    "                             ['data', 'scan_dimensions', 'frame_dimensions'])\n",
    "experiment_centered.data = scan_centered\n",
    "experiment_centered.scan_dimensions = experiment.scan_dimensions[::1]\n",
    "experiment_centered.frame_dimensions = experiment.frame_dimensions\n",
    "\n",
    "dp = stim.calculate_sum_sparse(experiment.data, experiment.frame_dimensions)\n",
    "dp2 = stim.calculate_sum_sparse(experiment_centered.data, experiment_centered.frame_dimensions)\n",
    "\n",
    "fg,ax = plt.subplots(2,1,sharex=True,sharey=True)\n",
    "ax[0].imshow(dp)\n",
    "ax[1].imshow(np.log(dp2+0.1))"
   ]
  },
  {
   "cell_type": "code",
   "execution_count": 41,
   "metadata": {},
   "outputs": [
    {
     "name": "stdout",
     "output_type": "stream",
     "text": [
      "/mnt/hdd1/2020.11.23/temp.h5\n"
     ]
    }
   ],
   "source": [
    "# Save to a stempy dataset\n",
    "out_name = fname.with_name('data_scan{}_th{}_electrons_centered.h5'.format(scan_num,threshold))\n",
    "stio.save_electron_counts(out_name,experiment_centered)\n",
    "print(out_name)"
   ]
  }
 ],
 "metadata": {
  "kernelspec": {
   "display_name": "Python 3",
   "language": "python",
   "name": "python3"
  },
  "language_info": {
   "codemirror_mode": {
    "name": "ipython",
    "version": 3
   },
   "file_extension": ".py",
   "mimetype": "text/x-python",
   "name": "python",
   "nbconvert_exporter": "python",
   "pygments_lexer": "ipython3",
   "version": "3.8.6"
  },
  "widgets": {
   "application/vnd.jupyter.widget-state+json": {
    "state": {
     "03e277e0aa9c451cb0c8803b000faeab": {
      "model_module": "jupyter-matplotlib",
      "model_module_version": "^0.7.4",
      "model_name": "MPLCanvasModel",
      "state": {
       "_cursor": "default",
       "_figure_label": "Figure 3",
       "_height": 480,
       "_width": 640,
       "layout": "IPY_MODEL_2c80dfed9dd7423e8341d9348a6b8980",
       "toolbar": "IPY_MODEL_8553972a5ac6440ca60c86cd83f314f9",
       "toolbar_position": "left"
      }
     },
     "04f50d17079b4dd78edcebadf36c27a8": {
      "model_module": "@jupyter-widgets/base",
      "model_module_version": "1.2.0",
      "model_name": "LayoutModel",
      "state": {}
     },
     "06b319475246446ba01410ab9cecb10c": {
      "model_module": "@jupyter-widgets/base",
      "model_module_version": "1.2.0",
      "model_name": "LayoutModel",
      "state": {}
     },
     "06c3133fded042fc8bc8809ce8413bba": {
      "model_module": "jupyter-matplotlib",
      "model_module_version": "^0.7.4",
      "model_name": "ToolbarModel",
      "state": {
       "layout": "IPY_MODEL_9c4763334340422490db47d10a616f73",
       "toolitems": [
        [
         "Home",
         "Reset original view",
         "home",
         "home"
        ],
        [
         "Back",
         "Back to previous view",
         "arrow-left",
         "back"
        ],
        [
         "Forward",
         "Forward to next view",
         "arrow-right",
         "forward"
        ],
        [
         "Pan",
         "Left button pans, Right button zooms\nx/y fixes axis, CTRL fixes aspect",
         "arrows",
         "pan"
        ],
        [
         "Zoom",
         "Zoom to rectangle\nx/y fixes axis, CTRL fixes aspect",
         "square-o",
         "zoom"
        ],
        [
         "Download",
         "Download plot",
         "floppy-o",
         "save_figure"
        ]
       ]
      }
     },
     "0db37c37a5b046c48875e9360fd804d5": {
      "model_module": "@jupyter-widgets/base",
      "model_module_version": "1.2.0",
      "model_name": "LayoutModel",
      "state": {}
     },
     "145420b438b14134b4618cb44669514d": {
      "model_module": "jupyter-matplotlib",
      "model_module_version": "^0.7.4",
      "model_name": "ToolbarModel",
      "state": {
       "layout": "IPY_MODEL_5bdb289eff7f4a16a3fa014ba1fca600",
       "toolitems": [
        [
         "Home",
         "Reset original view",
         "home",
         "home"
        ],
        [
         "Back",
         "Back to previous view",
         "arrow-left",
         "back"
        ],
        [
         "Forward",
         "Forward to next view",
         "arrow-right",
         "forward"
        ],
        [
         "Pan",
         "Left button pans, Right button zooms\nx/y fixes axis, CTRL fixes aspect",
         "arrows",
         "pan"
        ],
        [
         "Zoom",
         "Zoom to rectangle\nx/y fixes axis, CTRL fixes aspect",
         "square-o",
         "zoom"
        ],
        [
         "Download",
         "Download plot",
         "floppy-o",
         "save_figure"
        ]
       ]
      }
     },
     "1934a3c874024a0e82686c62432f9f60": {
      "model_module": "@jupyter-widgets/base",
      "model_module_version": "1.2.0",
      "model_name": "LayoutModel",
      "state": {}
     },
     "200585178ac146f58beddc0928615c05": {
      "model_module": "jupyter-matplotlib",
      "model_module_version": "^0.7.4",
      "model_name": "ToolbarModel",
      "state": {
       "layout": "IPY_MODEL_6ad5631db5574a27b3ef50cb58e70ad8",
       "toolitems": [
        [
         "Home",
         "Reset original view",
         "home",
         "home"
        ],
        [
         "Back",
         "Back to previous view",
         "arrow-left",
         "back"
        ],
        [
         "Forward",
         "Forward to next view",
         "arrow-right",
         "forward"
        ],
        [
         "Pan",
         "Left button pans, Right button zooms\nx/y fixes axis, CTRL fixes aspect",
         "arrows",
         "pan"
        ],
        [
         "Zoom",
         "Zoom to rectangle\nx/y fixes axis, CTRL fixes aspect",
         "square-o",
         "zoom"
        ],
        [
         "Download",
         "Download plot",
         "floppy-o",
         "save_figure"
        ]
       ]
      }
     },
     "207496243ec34e0d80c6f3672fc6a4ca": {
      "model_module": "jupyter-matplotlib",
      "model_module_version": "^0.7.4",
      "model_name": "ToolbarModel",
      "state": {
       "layout": "IPY_MODEL_9dfc26b2723c4b2896bead0a0fdeadaf",
       "toolitems": [
        [
         "Home",
         "Reset original view",
         "home",
         "home"
        ],
        [
         "Back",
         "Back to previous view",
         "arrow-left",
         "back"
        ],
        [
         "Forward",
         "Forward to next view",
         "arrow-right",
         "forward"
        ],
        [
         "Pan",
         "Left button pans, Right button zooms\nx/y fixes axis, CTRL fixes aspect",
         "arrows",
         "pan"
        ],
        [
         "Zoom",
         "Zoom to rectangle\nx/y fixes axis, CTRL fixes aspect",
         "square-o",
         "zoom"
        ],
        [
         "Download",
         "Download plot",
         "floppy-o",
         "save_figure"
        ]
       ]
      }
     },
     "22b2bebb58844db3833871903d440528": {
      "model_module": "jupyter-matplotlib",
      "model_module_version": "^0.7.4",
      "model_name": "MPLCanvasModel",
      "state": {
       "_cursor": "default",
       "_figure_label": "Figure 6",
       "_height": 480,
       "_width": 640,
       "layout": "IPY_MODEL_8a0aa0e695f348f282a7c6b56aef1219",
       "toolbar": "IPY_MODEL_38f04049b1fb45b082b8eb7f253afc8d",
       "toolbar_position": "left"
      }
     },
     "2459f9aea4cc407f8235d186e556adcc": {
      "model_module": "@jupyter-widgets/base",
      "model_module_version": "1.2.0",
      "model_name": "LayoutModel",
      "state": {}
     },
     "250e57151bc9444b932fdda1b1c023a8": {
      "model_module": "@jupyter-widgets/base",
      "model_module_version": "1.2.0",
      "model_name": "LayoutModel",
      "state": {}
     },
     "2c80dfed9dd7423e8341d9348a6b8980": {
      "model_module": "@jupyter-widgets/base",
      "model_module_version": "1.2.0",
      "model_name": "LayoutModel",
      "state": {}
     },
     "2ded65360c11443382737d7529cdfdf2": {
      "model_module": "@jupyter-widgets/base",
      "model_module_version": "1.2.0",
      "model_name": "LayoutModel",
      "state": {}
     },
     "38f04049b1fb45b082b8eb7f253afc8d": {
      "model_module": "jupyter-matplotlib",
      "model_module_version": "^0.7.4",
      "model_name": "ToolbarModel",
      "state": {
       "layout": "IPY_MODEL_0db37c37a5b046c48875e9360fd804d5",
       "toolitems": [
        [
         "Home",
         "Reset original view",
         "home",
         "home"
        ],
        [
         "Back",
         "Back to previous view",
         "arrow-left",
         "back"
        ],
        [
         "Forward",
         "Forward to next view",
         "arrow-right",
         "forward"
        ],
        [
         "Pan",
         "Left button pans, Right button zooms\nx/y fixes axis, CTRL fixes aspect",
         "arrows",
         "pan"
        ],
        [
         "Zoom",
         "Zoom to rectangle\nx/y fixes axis, CTRL fixes aspect",
         "square-o",
         "zoom"
        ],
        [
         "Download",
         "Download plot",
         "floppy-o",
         "save_figure"
        ]
       ]
      }
     },
     "45dada51c5df4d34aec2f6e47b3a14c3": {
      "model_module": "@jupyter-widgets/base",
      "model_module_version": "1.2.0",
      "model_name": "LayoutModel",
      "state": {}
     },
     "4af1b53c30b04eb4a60580b8a0881009": {
      "model_module": "@jupyter-widgets/base",
      "model_module_version": "1.2.0",
      "model_name": "LayoutModel",
      "state": {}
     },
     "4d36df473e1b4087b0e7e39a7264eda1": {
      "model_module": "@jupyter-widgets/base",
      "model_module_version": "1.2.0",
      "model_name": "LayoutModel",
      "state": {}
     },
     "571a1e277b5d450a9c1b70333400fe1b": {
      "model_module": "jupyter-matplotlib",
      "model_module_version": "^0.7.4",
      "model_name": "MPLCanvasModel",
      "state": {
       "_cursor": "default",
       "_figure_label": "Figure 14",
       "_height": 480,
       "_width": 640,
       "layout": "IPY_MODEL_7960784d5d81479ea799d6831c6d0c8a",
       "toolbar": "IPY_MODEL_9c55516d94f9440ba04d3fe751995ac0",
       "toolbar_position": "left"
      }
     },
     "57b0a2a6464148559bcb347cc7faddc1": {
      "model_module": "jupyter-matplotlib",
      "model_module_version": "^0.7.4",
      "model_name": "ToolbarModel",
      "state": {
       "layout": "IPY_MODEL_250e57151bc9444b932fdda1b1c023a8",
       "toolitems": [
        [
         "Home",
         "Reset original view",
         "home",
         "home"
        ],
        [
         "Back",
         "Back to previous view",
         "arrow-left",
         "back"
        ],
        [
         "Forward",
         "Forward to next view",
         "arrow-right",
         "forward"
        ],
        [
         "Pan",
         "Left button pans, Right button zooms\nx/y fixes axis, CTRL fixes aspect",
         "arrows",
         "pan"
        ],
        [
         "Zoom",
         "Zoom to rectangle\nx/y fixes axis, CTRL fixes aspect",
         "square-o",
         "zoom"
        ],
        [
         "Download",
         "Download plot",
         "floppy-o",
         "save_figure"
        ]
       ]
      }
     },
     "5bdb289eff7f4a16a3fa014ba1fca600": {
      "model_module": "@jupyter-widgets/base",
      "model_module_version": "1.2.0",
      "model_name": "LayoutModel",
      "state": {}
     },
     "62ed19abf57d4069b8f55691c2bec113": {
      "model_module": "@jupyter-widgets/base",
      "model_module_version": "1.2.0",
      "model_name": "LayoutModel",
      "state": {}
     },
     "671503f3b2b944bcb783e65ad0fd5e5a": {
      "model_module": "jupyter-matplotlib",
      "model_module_version": "^0.7.4",
      "model_name": "MPLCanvasModel",
      "state": {
       "_cursor": "default",
       "_figure_label": "Figure 13",
       "_height": 480,
       "_width": 640,
       "layout": "IPY_MODEL_1934a3c874024a0e82686c62432f9f60",
       "toolbar": "IPY_MODEL_57b0a2a6464148559bcb347cc7faddc1",
       "toolbar_position": "left"
      }
     },
     "6ad5631db5574a27b3ef50cb58e70ad8": {
      "model_module": "@jupyter-widgets/base",
      "model_module_version": "1.2.0",
      "model_name": "LayoutModel",
      "state": {}
     },
     "6d5a44ca35fd4edb8fad9041e8bf95d8": {
      "model_module": "jupyter-matplotlib",
      "model_module_version": "^0.7.4",
      "model_name": "ToolbarModel",
      "state": {
       "layout": "IPY_MODEL_71c8aa3adc114dd792d9980d19d81b3c",
       "toolitems": [
        [
         "Home",
         "Reset original view",
         "home",
         "home"
        ],
        [
         "Back",
         "Back to previous view",
         "arrow-left",
         "back"
        ],
        [
         "Forward",
         "Forward to next view",
         "arrow-right",
         "forward"
        ],
        [
         "Pan",
         "Left button pans, Right button zooms\nx/y fixes axis, CTRL fixes aspect",
         "arrows",
         "pan"
        ],
        [
         "Zoom",
         "Zoom to rectangle\nx/y fixes axis, CTRL fixes aspect",
         "square-o",
         "zoom"
        ],
        [
         "Download",
         "Download plot",
         "floppy-o",
         "save_figure"
        ]
       ]
      }
     },
     "6d7919b2884547d2b0cec6be9c7daf1d": {
      "model_module": "jupyter-matplotlib",
      "model_module_version": "^0.7.4",
      "model_name": "MPLCanvasModel",
      "state": {
       "_cursor": "default",
       "_figure_label": "Figure 2",
       "_height": 480,
       "_width": 640,
       "layout": "IPY_MODEL_d789f89157404b729ee53abe62b809c1",
       "toolbar": "IPY_MODEL_a5cbf408e7a048b4a891f63e09ad6646",
       "toolbar_position": "left"
      }
     },
     "6eeb5466a35b498c90eafeb31dca6b24": {
      "model_module": "@jupyter-widgets/base",
      "model_module_version": "1.2.0",
      "model_name": "LayoutModel",
      "state": {}
     },
     "71c8aa3adc114dd792d9980d19d81b3c": {
      "model_module": "@jupyter-widgets/base",
      "model_module_version": "1.2.0",
      "model_name": "LayoutModel",
      "state": {}
     },
     "76ef559d616f404c9822c8b8c66a3caf": {
      "model_module": "jupyter-matplotlib",
      "model_module_version": "^0.7.4",
      "model_name": "MPLCanvasModel",
      "state": {
       "_cursor": "default",
       "_figure_label": "Figure 8",
       "_height": 480,
       "_width": 640,
       "layout": "IPY_MODEL_62ed19abf57d4069b8f55691c2bec113",
       "toolbar": "IPY_MODEL_f0938a721bfa42e2af6eec7bfb06b613",
       "toolbar_position": "left"
      }
     },
     "7960784d5d81479ea799d6831c6d0c8a": {
      "model_module": "@jupyter-widgets/base",
      "model_module_version": "1.2.0",
      "model_name": "LayoutModel",
      "state": {}
     },
     "841a9e3049f74b5a8ef8ded32ee44c92": {
      "model_module": "jupyter-matplotlib",
      "model_module_version": "^0.7.4",
      "model_name": "MPLCanvasModel",
      "state": {
       "_cursor": "default",
       "_figure_label": "Figure 10",
       "_height": 480,
       "_message": "x=211. y=519.\n[1.71]",
       "_width": 640,
       "layout": "IPY_MODEL_f66c91d938ec42838cec2adc80152d27",
       "toolbar": "IPY_MODEL_cf851b1325d1416dae39e38b1fa4cc2d",
       "toolbar_position": "left"
      }
     },
     "8553972a5ac6440ca60c86cd83f314f9": {
      "model_module": "jupyter-matplotlib",
      "model_module_version": "^0.7.4",
      "model_name": "ToolbarModel",
      "state": {
       "layout": "IPY_MODEL_e5b3f95b4204482899c5201259948d9c",
       "toolitems": [
        [
         "Home",
         "Reset original view",
         "home",
         "home"
        ],
        [
         "Back",
         "Back to previous view",
         "arrow-left",
         "back"
        ],
        [
         "Forward",
         "Forward to next view",
         "arrow-right",
         "forward"
        ],
        [
         "Pan",
         "Left button pans, Right button zooms\nx/y fixes axis, CTRL fixes aspect",
         "arrows",
         "pan"
        ],
        [
         "Zoom",
         "Zoom to rectangle\nx/y fixes axis, CTRL fixes aspect",
         "square-o",
         "zoom"
        ],
        [
         "Download",
         "Download plot",
         "floppy-o",
         "save_figure"
        ]
       ]
      }
     },
     "8a0aa0e695f348f282a7c6b56aef1219": {
      "model_module": "@jupyter-widgets/base",
      "model_module_version": "1.2.0",
      "model_name": "LayoutModel",
      "state": {}
     },
     "8a50bd51fef04ffb816a9b331704f009": {
      "model_module": "@jupyter-widgets/base",
      "model_module_version": "1.2.0",
      "model_name": "LayoutModel",
      "state": {}
     },
     "9980eacc023a47f5807d3cf7fb0515f3": {
      "model_module": "jupyter-matplotlib",
      "model_module_version": "^0.7.4",
      "model_name": "MPLCanvasModel",
      "state": {
       "_cursor": "default",
       "_figure_label": "Figure 4",
       "_height": 480,
       "_width": 640,
       "layout": "IPY_MODEL_4d36df473e1b4087b0e7e39a7264eda1",
       "toolbar": "IPY_MODEL_207496243ec34e0d80c6f3672fc6a4ca",
       "toolbar_position": "left"
      }
     },
     "9c4763334340422490db47d10a616f73": {
      "model_module": "@jupyter-widgets/base",
      "model_module_version": "1.2.0",
      "model_name": "LayoutModel",
      "state": {}
     },
     "9c55516d94f9440ba04d3fe751995ac0": {
      "model_module": "jupyter-matplotlib",
      "model_module_version": "^0.7.4",
      "model_name": "ToolbarModel",
      "state": {
       "layout": "IPY_MODEL_b903241ac1d44aa49dfd0885dedc24e9",
       "toolitems": [
        [
         "Home",
         "Reset original view",
         "home",
         "home"
        ],
        [
         "Back",
         "Back to previous view",
         "arrow-left",
         "back"
        ],
        [
         "Forward",
         "Forward to next view",
         "arrow-right",
         "forward"
        ],
        [
         "Pan",
         "Left button pans, Right button zooms\nx/y fixes axis, CTRL fixes aspect",
         "arrows",
         "pan"
        ],
        [
         "Zoom",
         "Zoom to rectangle\nx/y fixes axis, CTRL fixes aspect",
         "square-o",
         "zoom"
        ],
        [
         "Download",
         "Download plot",
         "floppy-o",
         "save_figure"
        ]
       ]
      }
     },
     "9dfc26b2723c4b2896bead0a0fdeadaf": {
      "model_module": "@jupyter-widgets/base",
      "model_module_version": "1.2.0",
      "model_name": "LayoutModel",
      "state": {}
     },
     "a5cbf408e7a048b4a891f63e09ad6646": {
      "model_module": "jupyter-matplotlib",
      "model_module_version": "^0.7.4",
      "model_name": "ToolbarModel",
      "state": {
       "layout": "IPY_MODEL_06b319475246446ba01410ab9cecb10c",
       "toolitems": [
        [
         "Home",
         "Reset original view",
         "home",
         "home"
        ],
        [
         "Back",
         "Back to previous view",
         "arrow-left",
         "back"
        ],
        [
         "Forward",
         "Forward to next view",
         "arrow-right",
         "forward"
        ],
        [
         "Pan",
         "Left button pans, Right button zooms\nx/y fixes axis, CTRL fixes aspect",
         "arrows",
         "pan"
        ],
        [
         "Zoom",
         "Zoom to rectangle\nx/y fixes axis, CTRL fixes aspect",
         "square-o",
         "zoom"
        ],
        [
         "Download",
         "Download plot",
         "floppy-o",
         "save_figure"
        ]
       ]
      }
     },
     "b903241ac1d44aa49dfd0885dedc24e9": {
      "model_module": "@jupyter-widgets/base",
      "model_module_version": "1.2.0",
      "model_name": "LayoutModel",
      "state": {}
     },
     "b9cfac674be8408698fd26b8b41091a2": {
      "model_module": "jupyter-matplotlib",
      "model_module_version": "^0.7.4",
      "model_name": "MPLCanvasModel",
      "state": {
       "_cursor": "default",
       "_figure_label": "Figure 1",
       "_height": 480,
       "_message": "x=133. y=277.\n[5]",
       "_width": 640,
       "layout": "IPY_MODEL_c65d78a039f7413aaac1328103f0b15c",
       "toolbar": "IPY_MODEL_06c3133fded042fc8bc8809ce8413bba",
       "toolbar_position": "left"
      }
     },
     "bde9750f025249aabce5f5b2da4b7d40": {
      "model_module": "jupyter-matplotlib",
      "model_module_version": "^0.7.4",
      "model_name": "MPLCanvasModel",
      "state": {
       "_cursor": "default",
       "_figure_label": "Figure 11",
       "_height": 480,
       "_width": 640,
       "layout": "IPY_MODEL_e556c26053bc4e79a4722db6feb6dc50",
       "toolbar": "IPY_MODEL_6d5a44ca35fd4edb8fad9041e8bf95d8",
       "toolbar_position": "left"
      }
     },
     "bf67b05d8322419693e358227d7ff2ed": {
      "model_module": "jupyter-matplotlib",
      "model_module_version": "^0.7.4",
      "model_name": "MPLCanvasModel",
      "state": {
       "_cursor": "default",
       "_figure_label": "Figure 7",
       "_height": 480,
       "_width": 640,
       "layout": "IPY_MODEL_8a50bd51fef04ffb816a9b331704f009",
       "toolbar": "IPY_MODEL_db33c85baf14408a9bdb89b7a14bd4ad",
       "toolbar_position": "left"
      }
     },
     "c65d78a039f7413aaac1328103f0b15c": {
      "model_module": "@jupyter-widgets/base",
      "model_module_version": "1.2.0",
      "model_name": "LayoutModel",
      "state": {}
     },
     "cf851b1325d1416dae39e38b1fa4cc2d": {
      "model_module": "jupyter-matplotlib",
      "model_module_version": "^0.7.4",
      "model_name": "ToolbarModel",
      "state": {
       "layout": "IPY_MODEL_2ded65360c11443382737d7529cdfdf2",
       "toolitems": [
        [
         "Home",
         "Reset original view",
         "home",
         "home"
        ],
        [
         "Back",
         "Back to previous view",
         "arrow-left",
         "back"
        ],
        [
         "Forward",
         "Forward to next view",
         "arrow-right",
         "forward"
        ],
        [
         "Pan",
         "Left button pans, Right button zooms\nx/y fixes axis, CTRL fixes aspect",
         "arrows",
         "pan"
        ],
        [
         "Zoom",
         "Zoom to rectangle\nx/y fixes axis, CTRL fixes aspect",
         "square-o",
         "zoom"
        ],
        [
         "Download",
         "Download plot",
         "floppy-o",
         "save_figure"
        ]
       ]
      }
     },
     "d4abb813ffdc4583aef11350acf419d4": {
      "model_module": "jupyter-matplotlib",
      "model_module_version": "^0.7.4",
      "model_name": "MPLCanvasModel",
      "state": {
       "_cursor": "default",
       "_figure_label": "Figure 9",
       "_height": 480,
       "_width": 640,
       "layout": "IPY_MODEL_04f50d17079b4dd78edcebadf36c27a8",
       "toolbar": "IPY_MODEL_200585178ac146f58beddc0928615c05",
       "toolbar_position": "left"
      }
     },
     "d789f89157404b729ee53abe62b809c1": {
      "model_module": "@jupyter-widgets/base",
      "model_module_version": "1.2.0",
      "model_name": "LayoutModel",
      "state": {}
     },
     "db33c85baf14408a9bdb89b7a14bd4ad": {
      "model_module": "jupyter-matplotlib",
      "model_module_version": "^0.7.4",
      "model_name": "ToolbarModel",
      "state": {
       "layout": "IPY_MODEL_45dada51c5df4d34aec2f6e47b3a14c3",
       "toolitems": [
        [
         "Home",
         "Reset original view",
         "home",
         "home"
        ],
        [
         "Back",
         "Back to previous view",
         "arrow-left",
         "back"
        ],
        [
         "Forward",
         "Forward to next view",
         "arrow-right",
         "forward"
        ],
        [
         "Pan",
         "Left button pans, Right button zooms\nx/y fixes axis, CTRL fixes aspect",
         "arrows",
         "pan"
        ],
        [
         "Zoom",
         "Zoom to rectangle\nx/y fixes axis, CTRL fixes aspect",
         "square-o",
         "zoom"
        ],
        [
         "Download",
         "Download plot",
         "floppy-o",
         "save_figure"
        ]
       ]
      }
     },
     "de5e26ceffc544d294d806cdea3b75af": {
      "model_module": "jupyter-matplotlib",
      "model_module_version": "^0.7.4",
      "model_name": "MPLCanvasModel",
      "state": {
       "_cursor": "default",
       "_figure_label": "Figure 12",
       "_height": 480,
       "_width": 640,
       "layout": "IPY_MODEL_2459f9aea4cc407f8235d186e556adcc",
       "toolbar": "IPY_MODEL_145420b438b14134b4618cb44669514d",
       "toolbar_position": "left"
      }
     },
     "dedaca4db8db4bbeb669a26525ddc5bf": {
      "model_module": "@jupyter-widgets/base",
      "model_module_version": "1.2.0",
      "model_name": "LayoutModel",
      "state": {}
     },
     "e4db2bca92234c8eb70f5484ef77571a": {
      "model_module": "jupyter-matplotlib",
      "model_module_version": "^0.7.4",
      "model_name": "ToolbarModel",
      "state": {
       "_current_action": "zoom",
       "layout": "IPY_MODEL_dedaca4db8db4bbeb669a26525ddc5bf",
       "toolitems": [
        [
         "Home",
         "Reset original view",
         "home",
         "home"
        ],
        [
         "Back",
         "Back to previous view",
         "arrow-left",
         "back"
        ],
        [
         "Forward",
         "Forward to next view",
         "arrow-right",
         "forward"
        ],
        [
         "Pan",
         "Left button pans, Right button zooms\nx/y fixes axis, CTRL fixes aspect",
         "arrows",
         "pan"
        ],
        [
         "Zoom",
         "Zoom to rectangle\nx/y fixes axis, CTRL fixes aspect",
         "square-o",
         "zoom"
        ],
        [
         "Download",
         "Download plot",
         "floppy-o",
         "save_figure"
        ]
       ]
      }
     },
     "e556c26053bc4e79a4722db6feb6dc50": {
      "model_module": "@jupyter-widgets/base",
      "model_module_version": "1.2.0",
      "model_name": "LayoutModel",
      "state": {}
     },
     "e5b3f95b4204482899c5201259948d9c": {
      "model_module": "@jupyter-widgets/base",
      "model_module_version": "1.2.0",
      "model_name": "LayoutModel",
      "state": {}
     },
     "f0938a721bfa42e2af6eec7bfb06b613": {
      "model_module": "jupyter-matplotlib",
      "model_module_version": "^0.7.4",
      "model_name": "ToolbarModel",
      "state": {
       "layout": "IPY_MODEL_6eeb5466a35b498c90eafeb31dca6b24",
       "toolitems": [
        [
         "Home",
         "Reset original view",
         "home",
         "home"
        ],
        [
         "Back",
         "Back to previous view",
         "arrow-left",
         "back"
        ],
        [
         "Forward",
         "Forward to next view",
         "arrow-right",
         "forward"
        ],
        [
         "Pan",
         "Left button pans, Right button zooms\nx/y fixes axis, CTRL fixes aspect",
         "arrows",
         "pan"
        ],
        [
         "Zoom",
         "Zoom to rectangle\nx/y fixes axis, CTRL fixes aspect",
         "square-o",
         "zoom"
        ],
        [
         "Download",
         "Download plot",
         "floppy-o",
         "save_figure"
        ]
       ]
      }
     },
     "f66c91d938ec42838cec2adc80152d27": {
      "model_module": "@jupyter-widgets/base",
      "model_module_version": "1.2.0",
      "model_name": "LayoutModel",
      "state": {}
     },
     "fc6306234b48460685786a880915016c": {
      "model_module": "jupyter-matplotlib",
      "model_module_version": "^0.7.4",
      "model_name": "MPLCanvasModel",
      "state": {
       "_cursor": "default",
       "_figure_label": "Figure 5",
       "_height": 480,
       "_image_mode": "diff",
       "_message": "zoom rect",
       "_rubberband_y": 480,
       "_width": 640,
       "layout": "IPY_MODEL_4af1b53c30b04eb4a60580b8a0881009",
       "toolbar": "IPY_MODEL_e4db2bca92234c8eb70f5484ef77571a",
       "toolbar_position": "left"
      }
     }
    },
    "version_major": 2,
    "version_minor": 0
   }
  }
 },
 "nbformat": 4,
 "nbformat_minor": 4
}
