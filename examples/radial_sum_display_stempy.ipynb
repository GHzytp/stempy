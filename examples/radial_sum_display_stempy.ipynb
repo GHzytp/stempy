{
 "cells": [
  {
   "cell_type": "markdown",
   "metadata": {},
   "source": [
    "# Radial sum and allow interactive display\n",
    "\n",
    "This shows how to process the sparse data to produce:\n",
    " - diffraction patterns\n",
    " - a STEM image\n",
    " - a radial sum with interactive display\n"
   ]
  },
  {
   "cell_type": "code",
   "execution_count": null,
   "metadata": {},
   "outputs": [],
   "source": [
    "%matplotlib widget\n",
    "\n",
    "from pathlib import Path\n",
    "\n",
    "import matplotlib.pyplot as plt\n",
    "import numpy as np\n",
    "import h5py\n",
    "\n",
    "import stempy.image as stim\n",
    "import stempy.io as stio\n",
    "\n",
    "import ipywidgets as widgets\n",
    "from ipywidgets import interact, interactive"
   ]
  },
  {
   "cell_type": "code",
   "execution_count": null,
   "metadata": {},
   "outputs": [],
   "source": [
    "# User input\n",
    "# Scan number, threshold\n",
    "#crop_dimensions 2-tuple\n",
    "#manual center? True False\n",
    "#if manual input() center\n",
    "#bf outer angle"
   ]
  },
  {
   "cell_type": "code",
   "execution_count": null,
   "metadata": {},
   "outputs": [],
   "source": [
    "# Load a sparse 4D camera data set\n",
    "\n",
    "plt.close('all')\n",
    "\n",
    "scanNum = 31\n",
    "threshold = 4.0\n",
    "\n",
    "dPath = Path('/mnt/hdd1/2021.03.03')\n",
    "fPath = Path('data_scan{}_th{}_electrons.h5'.format(scanNum, threshold))\n",
    "print(dPath / fPath)\n",
    "\n",
    "electron_events = stio.load_electron_counts(str(dPath / fPath)) # Scan dimension in stempy are (col, row)\n",
    "\n",
    "print('Initial scan dimensions (col, row) = {}'.format(electron_events.scan_dimensions))"
   ]
  },
  {
   "cell_type": "code",
   "execution_count": null,
   "metadata": {},
   "outputs": [],
   "source": [
    "# Remove flyback, crop to a smaller area (if desired)\n",
    "crop_dimensions = (128, 128) # (col, row)\n",
    "\n",
    "data_crop = electron_events.data.reshape(electron_events.scan_dimensions[::-1]) # reverese dimensions\n",
    "data_crop = data_crop[0:crop_dimensions[0], 0:crop_dimensions[1]].ravel() # crop and ravel\n",
    "print('Cropped scan dimensions = {}'.format(crop_dimensions))"
   ]
  },
  {
   "cell_type": "code",
   "execution_count": null,
   "metadata": {},
   "outputs": [],
   "source": [
    "# Calculate a summed diffraction pattern\n",
    "dp = stim.calculate_sum_sparse(data_crop[::10], electron_events.frame_dimensions)\n",
    "\n",
    "# Set the center of the pattern\n",
    "#center = (272, 304) # manual\n",
    "center = stim.com_dense(dp) # center of intensity\n",
    "print('Center of pattern at {0[0]}, {0[1]}'.format(center))\n",
    "\n",
    "fg,ax = plt.subplots(1,1)\n",
    "ax.imshow(np.log(dp + 0.1), vmax=None)\n",
    "_ = ax.scatter(center[0], center[1], c='r')\n",
    "ax.set(xlabel='x',ylabel='y');"
   ]
  },
  {
   "cell_type": "code",
   "execution_count": null,
   "metadata": {},
   "outputs": [],
   "source": [
    "# Radial sum the sparse data\n",
    "bf_outer_angle = 35\n",
    "\n",
    "radial_sum = stim.radial_sum_sparse(data_crop, crop_dimensions, electron_events.frame_dimensions, center[::-1]) # center is (col,row)\n",
    "bf = radial_sum[:,:,0:bf_outer_angle].sum(axis=2)\n",
    "\n",
    "fg,ax = plt.subplots(1, 2)\n",
    "ax[0].imshow(bf)\n",
    "ax[0].set(title='Bright field')\n",
    "ax[1].plot(radial_sum.sum(axis=(0,1)))\n",
    "ax[1].set(title='Radial sum of all positions',xlabel='scattering angle (pixel^-1)')\n",
    "fg.tight_layout()"
   ]
  },
  {
   "cell_type": "code",
   "execution_count": null,
   "metadata": {},
   "outputs": [],
   "source": [
    "# Create interactive plot for BF and ADF images\n",
    "fg1, ax1 = plt.subplots(1,1,figsize=(4, 4))\n",
    "imax1 = ax1.imshow(radial_sum[:,:,0:50].sum(axis=2), vmin=0, vmax=1000, interpolation='none') # Set the initial image and intenstiy scaling \n",
    "\n",
    "def axUpdate(i):\n",
    "    '''updates the plot'''\n",
    "    s = np.sum(radial_sum[:,:,i[0]:i[1]],axis=2)\n",
    "    imax1.set_data(s)\n",
    "    imax1.set_clim(s.min(),s.max())\n",
    "\n",
    "w1 = widgets.IntRangeSlider(\n",
    "    value=[0, 50],\n",
    "    min=0,\n",
    "    max=288,\n",
    "    step=2,\n",
    "    description='VDF:',\n",
    "    disabled=False,\n",
    "    continuous_update=True,\n",
    "    orientation='horizontal',\n",
    "    readout=True,\n",
    "    readout_format='d',\n",
    ")\n",
    "\n",
    "interactive(axUpdate, i=w1)"
   ]
  }
 ],
 "metadata": {
  "kernelspec": {
   "display_name": "Python 3",
   "language": "python",
   "name": "python3"
  },
  "language_info": {
   "codemirror_mode": {
    "name": "ipython",
    "version": 3
   },
   "file_extension": ".py",
   "mimetype": "text/x-python",
   "name": "python",
   "nbconvert_exporter": "python",
   "pygments_lexer": "ipython3",
   "version": "3.8.6"
  },
  "widgets": {
   "application/vnd.jupyter.widget-state+json": {
    "state": {
     "09252d033deb446e962f4b5cff6ad6c1": {
      "model_module": "@jupyter-widgets/base",
      "model_module_version": "1.2.0",
      "model_name": "LayoutModel",
      "state": {}
     },
     "0c834ba2e06846eaab1d135c643169bc": {
      "model_module": "@jupyter-widgets/base",
      "model_module_version": "1.2.0",
      "model_name": "LayoutModel",
      "state": {}
     },
     "1aef24dcb5f343c5b1a6e269de0f846e": {
      "model_module": "jupyter-matplotlib",
      "model_module_version": "^0.7.4",
      "model_name": "ToolbarModel",
      "state": {
       "layout": "IPY_MODEL_bde94c858c82491abcad12fe1b3583ef",
       "toolitems": [
        [
         "Home",
         "Reset original view",
         "home",
         "home"
        ],
        [
         "Back",
         "Back to previous view",
         "arrow-left",
         "back"
        ],
        [
         "Forward",
         "Forward to next view",
         "arrow-right",
         "forward"
        ],
        [
         "Pan",
         "Left button pans, Right button zooms\nx/y fixes axis, CTRL fixes aspect",
         "arrows",
         "pan"
        ],
        [
         "Zoom",
         "Zoom to rectangle\nx/y fixes axis, CTRL fixes aspect",
         "square-o",
         "zoom"
        ],
        [
         "Download",
         "Download plot",
         "floppy-o",
         "save_figure"
        ]
       ]
      }
     },
     "1bef3feecf1142d1a2a7555a2e237943": {
      "model_module": "@jupyter-widgets/base",
      "model_module_version": "1.2.0",
      "model_name": "LayoutModel",
      "state": {}
     },
     "223a3a30df42431bb7fef9542febb261": {
      "model_module": "jupyter-matplotlib",
      "model_module_version": "^0.7.4",
      "model_name": "ToolbarModel",
      "state": {
       "layout": "IPY_MODEL_0c834ba2e06846eaab1d135c643169bc",
       "toolitems": [
        [
         "Home",
         "Reset original view",
         "home",
         "home"
        ],
        [
         "Back",
         "Back to previous view",
         "arrow-left",
         "back"
        ],
        [
         "Forward",
         "Forward to next view",
         "arrow-right",
         "forward"
        ],
        [
         "Pan",
         "Left button pans, Right button zooms\nx/y fixes axis, CTRL fixes aspect",
         "arrows",
         "pan"
        ],
        [
         "Zoom",
         "Zoom to rectangle\nx/y fixes axis, CTRL fixes aspect",
         "square-o",
         "zoom"
        ],
        [
         "Download",
         "Download plot",
         "floppy-o",
         "save_figure"
        ]
       ]
      }
     },
     "2d9ba20b45494849a82579c56b93cbdd": {
      "model_module": "jupyter-matplotlib",
      "model_module_version": "^0.7.4",
      "model_name": "MPLCanvasModel",
      "state": {
       "_cursor": "default",
       "_figure_label": "Figure 5",
       "_height": 400,
       "_image_mode": "diff",
       "_width": 400,
       "layout": "IPY_MODEL_09252d033deb446e962f4b5cff6ad6c1",
       "toolbar": "IPY_MODEL_223a3a30df42431bb7fef9542febb261",
       "toolbar_position": "left"
      }
     },
     "36d58c203fa64f34a697838fd0c0fd89": {
      "model_module": "jupyter-matplotlib",
      "model_module_version": "^0.7.4",
      "model_name": "MPLCanvasModel",
      "state": {
       "_cursor": "default",
       "_figure_label": "Figure 4",
       "_height": 480,
       "_message": "x=5.8 y=103.9\n[6]",
       "_width": 640,
       "layout": "IPY_MODEL_8e0c4e4679b14f5f8d5c5aab11f635ca",
       "toolbar": "IPY_MODEL_567a03a3d8084e8cb906bfb8e2a230d3",
       "toolbar_position": "left"
      }
     },
     "384e3364b9d243cca47924817a8d25b2": {
      "model_module": "jupyter-matplotlib",
      "model_module_version": "^0.7.4",
      "model_name": "MPLCanvasModel",
      "state": {
       "_cursor": "default",
       "_figure_label": "Figure 2",
       "_height": 480,
       "_width": 640,
       "layout": "IPY_MODEL_1bef3feecf1142d1a2a7555a2e237943",
       "toolbar": "IPY_MODEL_bf779011357441019777ef6109ee76b4",
       "toolbar_position": "left"
      }
     },
     "55ef7760efab40c984d84eeaa3e6be8b": {
      "model_module": "@jupyter-widgets/base",
      "model_module_version": "1.2.0",
      "model_name": "LayoutModel",
      "state": {}
     },
     "567a03a3d8084e8cb906bfb8e2a230d3": {
      "model_module": "jupyter-matplotlib",
      "model_module_version": "^0.7.4",
      "model_name": "ToolbarModel",
      "state": {
       "layout": "IPY_MODEL_e9e1c4d8f7bc4263b25ece764739ed14",
       "toolitems": [
        [
         "Home",
         "Reset original view",
         "home",
         "home"
        ],
        [
         "Back",
         "Back to previous view",
         "arrow-left",
         "back"
        ],
        [
         "Forward",
         "Forward to next view",
         "arrow-right",
         "forward"
        ],
        [
         "Pan",
         "Left button pans, Right button zooms\nx/y fixes axis, CTRL fixes aspect",
         "arrows",
         "pan"
        ],
        [
         "Zoom",
         "Zoom to rectangle\nx/y fixes axis, CTRL fixes aspect",
         "square-o",
         "zoom"
        ],
        [
         "Download",
         "Download plot",
         "floppy-o",
         "save_figure"
        ]
       ]
      }
     },
     "5cef03ccf2164404bcb5c337cf9c2140": {
      "model_module": "jupyter-matplotlib",
      "model_module_version": "^0.7.4",
      "model_name": "MPLCanvasModel",
      "state": {
       "_cursor": "default",
       "_figure_label": "Figure 3",
       "_height": 480,
       "_width": 640,
       "layout": "IPY_MODEL_f26a0f9640c141d4add61f685e514520",
       "toolbar": "IPY_MODEL_d0e5110e79694e20a62eec47899b90f9",
       "toolbar_position": "left"
      }
     },
     "77d7382236964d0d9b460f966f55e38c": {
      "model_module": "jupyter-matplotlib",
      "model_module_version": "^0.7.4",
      "model_name": "MPLCanvasModel",
      "state": {
       "_cursor": "default",
       "_figure_label": "Figure 1",
       "_height": 480,
       "_width": 640,
       "layout": "IPY_MODEL_55ef7760efab40c984d84eeaa3e6be8b",
       "toolbar": "IPY_MODEL_1aef24dcb5f343c5b1a6e269de0f846e",
       "toolbar_position": "left"
      }
     },
     "7a98acf5c4cd41289503781ebd4c881a": {
      "model_module": "@jupyter-widgets/base",
      "model_module_version": "1.2.0",
      "model_name": "LayoutModel",
      "state": {}
     },
     "84f775506a174b8c956e5a57ec4e2c2c": {
      "model_module": "@jupyter-widgets/output",
      "model_module_version": "1.0.0",
      "model_name": "OutputModel",
      "state": {
       "layout": "IPY_MODEL_bf5490cf55614f7788f127534b2b4fcd"
      }
     },
     "875ee360a5dc4bbcae6c6e242bdca7a2": {
      "model_module": "@jupyter-widgets/base",
      "model_module_version": "1.2.0",
      "model_name": "LayoutModel",
      "state": {}
     },
     "8e0c4e4679b14f5f8d5c5aab11f635ca": {
      "model_module": "@jupyter-widgets/base",
      "model_module_version": "1.2.0",
      "model_name": "LayoutModel",
      "state": {}
     },
     "ab346249598e42e98fadfa858fdf5a86": {
      "model_module": "@jupyter-widgets/base",
      "model_module_version": "1.2.0",
      "model_name": "LayoutModel",
      "state": {}
     },
     "b6c3062190624161850ce10213dd5bba": {
      "model_module": "@jupyter-widgets/controls",
      "model_module_version": "1.5.0",
      "model_name": "VBoxModel",
      "state": {
       "_dom_classes": [
        "widget-interact"
       ],
       "children": [
        "IPY_MODEL_d007e5c708994d18a586de308f2fc839",
        "IPY_MODEL_84f775506a174b8c956e5a57ec4e2c2c"
       ],
       "layout": "IPY_MODEL_cd842e0444254449a57dfc3a342ddebe"
      }
     },
     "bde94c858c82491abcad12fe1b3583ef": {
      "model_module": "@jupyter-widgets/base",
      "model_module_version": "1.2.0",
      "model_name": "LayoutModel",
      "state": {}
     },
     "bf5490cf55614f7788f127534b2b4fcd": {
      "model_module": "@jupyter-widgets/base",
      "model_module_version": "1.2.0",
      "model_name": "LayoutModel",
      "state": {}
     },
     "bf779011357441019777ef6109ee76b4": {
      "model_module": "jupyter-matplotlib",
      "model_module_version": "^0.7.4",
      "model_name": "ToolbarModel",
      "state": {
       "layout": "IPY_MODEL_ab346249598e42e98fadfa858fdf5a86",
       "toolitems": [
        [
         "Home",
         "Reset original view",
         "home",
         "home"
        ],
        [
         "Back",
         "Back to previous view",
         "arrow-left",
         "back"
        ],
        [
         "Forward",
         "Forward to next view",
         "arrow-right",
         "forward"
        ],
        [
         "Pan",
         "Left button pans, Right button zooms\nx/y fixes axis, CTRL fixes aspect",
         "arrows",
         "pan"
        ],
        [
         "Zoom",
         "Zoom to rectangle\nx/y fixes axis, CTRL fixes aspect",
         "square-o",
         "zoom"
        ],
        [
         "Download",
         "Download plot",
         "floppy-o",
         "save_figure"
        ]
       ]
      }
     },
     "cd842e0444254449a57dfc3a342ddebe": {
      "model_module": "@jupyter-widgets/base",
      "model_module_version": "1.2.0",
      "model_name": "LayoutModel",
      "state": {}
     },
     "d007e5c708994d18a586de308f2fc839": {
      "model_module": "@jupyter-widgets/controls",
      "model_module_version": "1.5.0",
      "model_name": "IntRangeSliderModel",
      "state": {
       "_model_name": "IntRangeSliderModel",
       "_view_name": "IntRangeSliderView",
       "description": "VDF:",
       "layout": "IPY_MODEL_7a98acf5c4cd41289503781ebd4c881a",
       "max": 288,
       "step": 2,
       "style": "IPY_MODEL_ef394e014d7c4de2adcf10ffbdbb4f31",
       "value": [
        0,
        44
       ]
      }
     },
     "d0e5110e79694e20a62eec47899b90f9": {
      "model_module": "jupyter-matplotlib",
      "model_module_version": "^0.7.4",
      "model_name": "ToolbarModel",
      "state": {
       "layout": "IPY_MODEL_875ee360a5dc4bbcae6c6e242bdca7a2",
       "toolitems": [
        [
         "Home",
         "Reset original view",
         "home",
         "home"
        ],
        [
         "Back",
         "Back to previous view",
         "arrow-left",
         "back"
        ],
        [
         "Forward",
         "Forward to next view",
         "arrow-right",
         "forward"
        ],
        [
         "Pan",
         "Left button pans, Right button zooms\nx/y fixes axis, CTRL fixes aspect",
         "arrows",
         "pan"
        ],
        [
         "Zoom",
         "Zoom to rectangle\nx/y fixes axis, CTRL fixes aspect",
         "square-o",
         "zoom"
        ],
        [
         "Download",
         "Download plot",
         "floppy-o",
         "save_figure"
        ]
       ]
      }
     },
     "e9e1c4d8f7bc4263b25ece764739ed14": {
      "model_module": "@jupyter-widgets/base",
      "model_module_version": "1.2.0",
      "model_name": "LayoutModel",
      "state": {}
     },
     "ef394e014d7c4de2adcf10ffbdbb4f31": {
      "model_module": "@jupyter-widgets/controls",
      "model_module_version": "1.5.0",
      "model_name": "SliderStyleModel",
      "state": {
       "description_width": ""
      }
     },
     "f26a0f9640c141d4add61f685e514520": {
      "model_module": "@jupyter-widgets/base",
      "model_module_version": "1.2.0",
      "model_name": "LayoutModel",
      "state": {}
     }
    },
    "version_major": 2,
    "version_minor": 0
   }
  }
 },
 "nbformat": 4,
 "nbformat_minor": 4
}
