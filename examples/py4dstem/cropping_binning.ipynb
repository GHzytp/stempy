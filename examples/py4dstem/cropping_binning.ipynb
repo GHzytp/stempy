{
 "cells": [
  {
   "cell_type": "code",
   "execution_count": null,
   "metadata": {},
   "outputs": [],
   "source": [
    "import numpy as np\n",
    "import matplotlib.pyplot as plt\n",
    "\n",
    "from stempy.io.sparse_array import SparseArray\n",
    "import stempy.io"
   ]
  },
  {
   "cell_type": "code",
   "execution_count": null,
   "metadata": {},
   "outputs": [],
   "source": [
    "data_file = 'battery_summed_cropped.h5'\n",
    "\n",
    "kwargs = {\n",
    "    'allow_full_expand': False,\n",
    "    'sparse_slicing': True,\n",
    "}\n",
    "array = SparseArray.from_hdf5(data_file, **kwargs)"
   ]
  },
  {
   "cell_type": "code",
   "execution_count": null,
   "metadata": {},
   "outputs": [],
   "source": [
    "def sum_scans(array):\n",
    "    return np.sum(array, axis=(0, 1), dtype=np.uint32)\n",
    "\n",
    "original_sum = sum_scans(array)"
   ]
  },
  {
   "cell_type": "code",
   "execution_count": null,
   "metadata": {},
   "outputs": [],
   "source": [
    "def compare_sum(array, title):\n",
    "    img = sum_scans(array)\n",
    "    fig, ax = plt.subplots(1, 2, figsize=(12,12))\n",
    "\n",
    "    ax[0].matshow(original_sum)\n",
    "    ax[0].set_title('Original')\n",
    "    \n",
    "    ax[1].matshow(img)\n",
    "    ax[1].set_title(title)\n",
    "    \n",
    "    fig.tight_layout()\n",
    "    plt.show()"
   ]
  },
  {
   "cell_type": "code",
   "execution_count": null,
   "metadata": {},
   "outputs": [],
   "source": [
    "cropped = array[62:, 62:]\n",
    "print(f'type: {type(cropped)}')\n",
    "print(f'shape: {cropped.shape}')\n",
    "\n",
    "compare_sum(cropped, 'array[62:, 62:]')"
   ]
  },
  {
   "cell_type": "code",
   "execution_count": null,
   "metadata": {},
   "outputs": [],
   "source": [
    "cropped = array[:, :, 270:330:2, 250:300:2]\n",
    "print(f'type: {type(cropped)}')\n",
    "print(f'shape: {cropped.shape}')\n",
    "\n",
    "compare_sum(cropped, 'array[:, :, 270:330:2, 250:300:2]')"
   ]
  },
  {
   "cell_type": "code",
   "execution_count": null,
   "metadata": {},
   "outputs": [],
   "source": [
    "cropped = array[:, :, 270:330, 250:300]\n",
    "print(f'type: {type(cropped)}')\n",
    "print(f'shape: {cropped.shape}')\n",
    "\n",
    "compare_sum(cropped, 'array[:, :, 270:330, 250:300]')"
   ]
  },
  {
   "cell_type": "code",
   "execution_count": null,
   "metadata": {},
   "outputs": [],
   "source": [
    "binned = array.bin_frames(2)\n",
    "cropped = binned[:, :, 135:165, 125:150]\n",
    "\n",
    "print(f'type: {type(cropped)}')\n",
    "print(f'shape: {cropped.shape}')\n",
    "\n",
    "compare_sum(cropped, 'binned[:, :, 135:165, 125:150]')"
   ]
  }
 ],
 "metadata": {
  "kernelspec": {
   "display_name": "Python 3",
   "language": "python",
   "name": "python3"
  },
  "language_info": {
   "codemirror_mode": {
    "name": "ipython",
    "version": 3
   },
   "file_extension": ".py",
   "mimetype": "text/x-python",
   "name": "python",
   "nbconvert_exporter": "python",
   "pygments_lexer": "ipython3",
   "version": "3.8.10"
  }
 },
 "nbformat": 4,
 "nbformat_minor": 4
}
