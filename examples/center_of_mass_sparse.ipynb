{
 "cells": [
  {
   "cell_type": "markdown",
   "metadata": {},
   "source": [
    "# Retrieve phase from center of mass\n",
    " - uses stempy functions"
   ]
  },
  {
   "cell_type": "code",
   "execution_count": null,
   "metadata": {},
   "outputs": [],
   "source": [
    "%matplotlib widget\n",
    "\n",
    "from pathlib import Path\n",
    "\n",
    "import matplotlib.pyplot as plt\n",
    "import numpy as np\n",
    "import imageio\n",
    "\n",
    "import stempy.io as stio\n",
    "import stempy.image as stim"
   ]
  },
  {
   "cell_type": "code",
   "execution_count": null,
   "metadata": {},
   "outputs": [],
   "source": [
    "def phase_from_com(com, theta=0, flip=False, reg=1e-10):\n",
    "    \"\"\"Integrate 4D-STEM centre of mass (DPC) measurements to calculate\n",
    "    object phase. Assumes a three dimensional array com, with the final\n",
    "    two dimensions corresponding to the image and the first dimension \n",
    "    of the array corresponding to the y and x centre of mass respectively.\n",
    "    Note this version of the reconstruction is not quantitative.\n",
    "       \n",
    "    author: Hamish Brown\n",
    "    \n",
    "    Parameters\n",
    "    ----------\n",
    "        com : ndarray, 3D\n",
    "            The center of mass for each frame as a 3D array of size [2, M, N]\n",
    "        theta : float\n",
    "            The angle between real space and reciprocal space in radians\n",
    "        flip : bool\n",
    "            Whether to flip the com direction to account for a mirror across the vertical axis.\n",
    "        reg : float\n",
    "            A regularization parameter\n",
    "            \n",
    "    Returns\n",
    "    -------\n",
    "        : ndarray, 2D\n",
    "            A 2D ndarray of the DPC phase.\n",
    "    \n",
    "    \"\"\"\n",
    "    # Perform rotation and flipping if needed (from py4dstem)\n",
    "    CoMx = com[0,]\n",
    "    CoMy = com[1,]\n",
    "    if not flip:\n",
    "        CoMx_rot = CoMx*np.cos(theta) - CoMy*np.sin(theta)\n",
    "        CoMy_rot = CoMx*np.sin(theta) + CoMy*np.cos(theta)\n",
    "    if flip:\n",
    "        CoMx_rot = CoMx*np.cos(theta) + CoMy*np.sin(theta)\n",
    "        CoMy_rot = CoMx*np.sin(theta) - CoMy*np.cos(theta)\n",
    "    \n",
    "    # Get shape of arrays\n",
    "    ny, nx = com.shape[1:]\n",
    "\n",
    "    # Calculate Fourier coordinates for array\n",
    "    ky, kx = [np.fft.fftfreq(x) for x in [ny,nx]]\n",
    "\n",
    "    # Calculate numerator and denominator expressions for solution of \n",
    "    # phase from centre of mass measurements\n",
    "    numerator = ky[:,None]*np.fft.fft2(CoMx_rot)+kx[None,:]*np.fft.fft2(CoMy_rot)\n",
    "    denominator = 2*np.pi*1j*((kx**2)[None,:]+(ky**2)[:,None])+reg\n",
    "    # Avoid a divide by zero for the origin of the Fourier coordinates\n",
    "    numerator[0,0] = 0\n",
    "    denominator[0,0] = 1\n",
    "\n",
    "    # Return real part of the inverse Fourier transform\n",
    "    return np.real(np.fft.ifft2(numerator/denominator))\n"
   ]
  },
  {
   "cell_type": "code",
   "execution_count": null,
   "metadata": {},
   "outputs": [],
   "source": [
    "# Load a sparse 4D camera data set\n",
    "\n",
    "# Close all previous windows to avoid too many windows\n",
    "plt.close('all')\n",
    "\n",
    "scan_num = 18\n",
    "threshold = 4.5\n",
    "\n",
    "dPath = Path('/mnt/hdd1/2021.03.02')\n",
    "fPath = Path('data_scan{}_th{}_electrons.h5'.format(scan_num, threshold))\n",
    "\n",
    "fname = dPath / fPath\n",
    "\n",
    "electron_events = stio.load_electron_counts(str(fname))\n",
    "\n",
    "print('File: {}'.format(fname))\n",
    "print('Initial scan dimensions = {}'.format(electron_events.scan_dimensions))"
   ]
  },
  {
   "cell_type": "code",
   "execution_count": null,
   "metadata": {},
   "outputs": [],
   "source": [
    "# Calculate a summed diffraction pattern of frames\n",
    "# And find the center\n",
    "dp = stim.calculate_sum_sparse(electron_events.data[::10],\n",
    "                               electron_events.frame_dimensions)\n",
    "\n",
    "# Set the center of the pattern (use figure below for manual)\n",
    "center = stim.com_dense(dp)\n",
    "#center = (248, 284)\n",
    "print(center)\n",
    "\n",
    "fg,ax = plt.subplots(1, 1)\n",
    "ax.imshow(np.log(dp+1))\n",
    "ax.scatter(center[0], center[1], c='r')\n",
    "_ = ax.legend(['center of pattern'])"
   ]
  },
  {
   "cell_type": "code",
   "execution_count": null,
   "metadata": {},
   "outputs": [],
   "source": [
    "# Calculate a virtual bright field and dark field\n",
    "outer_angle = 30 # in pixels\n",
    "\n",
    "ims = stim.create_stem_images(electron_events, (0, 180), (50, 280), center=center) # here center is (col, row)\n",
    "bf = ims[0,]\n",
    "adf = ims[1,]\n",
    "\n",
    "fg,ax = plt.subplots(1, 2, sharex=True, sharey=True)\n",
    "ax[0].imshow(bf)\n",
    "ax[0].set(title='vBF')\n",
    "ax[1].imshow(adf)\n",
    "ax[1].set(title='vADF')"
   ]
  },
  {
   "cell_type": "code",
   "execution_count": null,
   "metadata": {},
   "outputs": [],
   "source": [
    "# Calculate the center of mass of every frame\n",
    "com = stim.com_sparse(electron_events.data, electron_events.frame_dimensions)\n",
    "\n",
    "# This can be removed in the future\n",
    "com = com.reshape((2, electron_events.scan_dimensions[1], electron_events.scan_dimensions[0]))\n",
    "\n",
    "fg,ax = plt.subplots(1,2,sharex=True,sharey=True)\n",
    "axim0 = ax[0].imshow(com[0,], cmap='bwr',vmin=com[0,10:-10,:].min(),vmax=com[0,10:-10,].max())\n",
    "axim1 = ax[1].imshow(com[1,], cmap='bwr',vmin=com[1,10:-10,:].min(),vmax=com[1,10:-10,].max())"
   ]
  },
  {
   "cell_type": "code",
   "execution_count": null,
   "metadata": {},
   "outputs": [],
   "source": [
    "# Calculate the radius and angle for each COM measurement\n",
    "com_mean = np.mean(com,axis=(1,2))\n",
    "com_r = np.sqrt( (com[0,] - com_mean[0])**2 + (com[1,] - com_mean[1])**2 )\n",
    "com_theta = np.arctan2((com[1,] - com_mean[1]), (com[0,] - com_mean[0]))\n",
    "\n",
    "fg,ax = plt.subplots(1, 2,sharex=True,sharey=True)\n",
    "ax[0].imshow(com_r,cmap='magma',vmin=com_r[10:-10,:].min(),vmax=com_r[10:-10,].max())\n",
    "ax[1].imshow(com_theta, cmap='twilight')"
   ]
  },
  {
   "cell_type": "code",
   "execution_count": null,
   "metadata": {},
   "outputs": [],
   "source": [
    "# Retrieve phase from center of mass\n",
    "# 300kV: flip=True and theta=0 + STEM scan rotation\n",
    "# 80 kV: flip=True and theta=35 works well.\n",
    "flip = True\n",
    "theta = 0 * np.pi / 180. # rotation between diffraction and real space scan directions\n",
    "\n",
    "# Calculate the phase\n",
    "ph = phase_from_com(com, flip=flip, theta=theta, reg=1e-1)\n",
    "\n",
    "fg,ax = plt.subplots(1,2,sharex=True,sharey=True)\n",
    "#ax[0].imshow(ph, vmin=ph[10:-10,10:-10].min(), vmax=ph[10:-10,10:-10].max())\n",
    "ax[0].imshow(ph / np.std(ph), vmin=-2, vmax=2)\n",
    "ax[0].set(title = 'DPC')\n",
    "ax[1].imshow(adf)\n",
    "ax[1].set(title = 'vADF')\n",
    "\n",
    "fg,ax = plt.subplots(1,2,sharex=True,sharey=True)\n",
    "ax[0].imshow(np.log(np.abs(np.fft.fftshift(np.fft.fft2(ph)))),vmin=1e-3)\n",
    "ax[1].imshow(np.log(np.abs(np.fft.fftshift(np.fft.fft2(bf)))))"
   ]
  },
  {
   "cell_type": "code",
   "execution_count": null,
   "metadata": {},
   "outputs": [],
   "source": [
    "fg,ax = plt.subplots(1, 3, sharex=True, sharey=True,figsize=(12,5))\n",
    "ax[0].imshow(bf)\n",
    "ax[0].set(title='BF')\n",
    "ax[1].imshow(adf)\n",
    "ax[1].set(title='ADF')\n",
    "ax[2].imshow(ph,vmin=ph[10:-10,].min(),vmax=ph[10:-10,].max())\n",
    "ax[2].set(title = 'DPC')"
   ]
  },
  {
   "cell_type": "code",
   "execution_count": null,
   "metadata": {},
   "outputs": [],
   "source": [
    "# Save the data\n",
    "print('Saving COM and DPC for scan number {}'.format(scan_num))\n",
    "imageio.imwrite(fname.with_name('scan{}_DPC'.format(scan_num)).with_suffix('.tif'), ph.astype(np.float32))\n",
    "imageio.imwrite(fname.with_name('scan{}_comx'.format(scan_num)).with_suffix('.tif'), com[0,].astype(np.float32))\n",
    "imageio.imwrite(fname.with_name('scan{}_comy'.format(scan_num)).with_suffix('.tif'), com[1,].astype(np.float32))\n",
    "imageio.imwrite(fname.with_name('scan{}_BF'.format(scan_num)).with_suffix('.tif'), bf.astype(np.float32))\n",
    "imageio.imwrite(fname.with_name('scan{}_ADF'.format(scan_num)).with_suffix('.tif'), adf.astype(np.float32))\n"
   ]
  }
 ],
 "metadata": {
  "kernelspec": {
   "display_name": "Python 3",
   "language": "python",
   "name": "python3"
  },
  "language_info": {
   "codemirror_mode": {
    "name": "ipython",
    "version": 3
   },
   "file_extension": ".py",
   "mimetype": "text/x-python",
   "name": "python",
   "nbconvert_exporter": "python",
   "pygments_lexer": "ipython3",
   "version": "3.8.6"
  },
  "widgets": {
   "application/vnd.jupyter.widget-state+json": {
    "state": {},
    "version_major": 2,
    "version_minor": 0
   }
  }
 },
 "nbformat": 4,
 "nbformat_minor": 4
}
